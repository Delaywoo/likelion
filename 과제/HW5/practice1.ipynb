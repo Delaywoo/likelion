{
 "cells": [
  {
   "cell_type": "code",
   "execution_count": 10,
   "id": "19ed291e",
   "metadata": {},
   "outputs": [],
   "source": [
    "from bs4 import BeautifulSoup\n",
    "import requests\n",
    "from datetime import datetime"
   ]
  },
  {
   "cell_type": "code",
   "execution_count": 11,
   "id": "0be758b4",
   "metadata": {},
   "outputs": [],
   "source": [
    "url = \"https://music.bugs.co.kr/chart\"\n",
    "response = requests.get(url)\n",
    "soup = BeautifulSoup(response.text, 'html.parser')\n",
    "rank = 1\n",
    "\n",
    "results = soup.findAll(\"p\",\"title\")"
   ]
  },
  {
   "cell_type": "code",
   "execution_count": 17,
   "id": "6c1d05b9",
   "metadata": {},
   "outputs": [],
   "source": [
    "file = open(\"practice1.txt\", \"w\")\n",
    "file.write(datetime.today().strftime(\"20%y-%m-%d의 벅스 실시간 차트 순위입니다.\"))\n",
    "file.write(\"\\n\")\n",
    "for result in results:\n",
    "    file.write(str(rank)+ \"위 : \"+ result.get_text()+ \"\\n\")\n",
    "    rank +=1\n",
    "file.close()"
   ]
  },
  {
   "cell_type": "code",
   "execution_count": null,
   "id": "e940e0b8",
   "metadata": {},
   "outputs": [],
   "source": []
  }
 ],
 "metadata": {
  "kernelspec": {
   "display_name": "Python 3 (ipykernel)",
   "language": "python",
   "name": "python3"
  },
  "language_info": {
   "codemirror_mode": {
    "name": "ipython",
    "version": 3
   },
   "file_extension": ".py",
   "mimetype": "text/x-python",
   "name": "python",
   "nbconvert_exporter": "python",
   "pygments_lexer": "ipython3",
   "version": "3.9.7"
  }
 },
 "nbformat": 4,
 "nbformat_minor": 5
}
