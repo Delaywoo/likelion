{
 "cells": [
  {
   "cell_type": "code",
   "execution_count": null,
   "id": "042707b1",
   "metadata": {},
   "outputs": [],
   "source": [
    "from googletrans import Translator\n",
    "\n",
    "translator=Translator()\n",
    "sentence=input(\"책을 읽으며 인상 깊었던 구절을 적어주세요: \")\n",
    "detected=translator.detect(sentence)\n",
    "result1=translator.translate(sentence,\"en\",\"ko\")\n",
    "result2=translator.translate(sentence,\"vi\",\"ko\") #베트남\n",
    "\n",
    "print(\"========== 번역 결과 ==========\")\n",
    "print(f\"입력어 - ko : {sentence}\")\n",
    "print(f\"번역어1 - en : {result1.text} \")\n",
    "print(f\"번역어2 - vi : {result2.text}  \")"
   ]
  },
  {
   "cell_type": "code",
   "execution_count": null,
   "id": "78619a41",
   "metadata": {},
   "outputs": [],
   "source": []
  }
 ],
 "metadata": {
  "kernelspec": {
   "display_name": "Python 3 (ipykernel)",
   "language": "python",
   "name": "python3"
  },
  "language_info": {
   "codemirror_mode": {
    "name": "ipython",
    "version": 3
   },
   "file_extension": ".py",
   "mimetype": "text/x-python",
   "name": "python",
   "nbconvert_exporter": "python",
   "pygments_lexer": "ipython3",
   "version": "3.9.7"
  }
 },
 "nbformat": 4,
 "nbformat_minor": 5
}
