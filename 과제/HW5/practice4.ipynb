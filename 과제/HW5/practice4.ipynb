{
 "cells": [
  {
   "cell_type": "code",
   "execution_count": 5,
   "id": "afe49a20",
   "metadata": {},
   "outputs": [
    {
     "data": {
      "text/plain": [
       "(221,\n",
       " b'2.0.0 closing connection x9-20020a170902ec8900b0015e8d4eb1fbsm1061792plg.69 - gsmtp')"
      ]
     },
     "execution_count": 5,
     "metadata": {},
     "output_type": "execute_result"
    }
   ],
   "source": [
    "import smtplib\n",
    "from email.message import EmailMessage\n",
    "\n",
    "SMTP_SERVER = \"smtp.gmail.com\"\n",
    "SMTP_PORT = 465\n",
    "\n",
    "message = EmailMessage()\n",
    "message.set_content(\"지연우 입니다.\")\n",
    "\n",
    "message[\"Subject\"] = \"지연우입니다.\"\n",
    "message[\"From\"] = \"jyw0115@yonsei.ac.kr\"\n",
    "message[\"To\"] = \"ksjoon28@naver.com\"\n",
    "\n",
    "smtp = smtplib.SMTP_SSL(SMTP_SERVER,SMTP_PORT)\n",
    "smtp.login(\"jyw0115@yonsei.ac.kr\", \"비밀입니다\")\n",
    "smtp.send_message(message)\n",
    "smtp.quit()"
   ]
  },
  {
   "cell_type": "code",
   "execution_count": null,
   "id": "f9009895",
   "metadata": {},
   "outputs": [],
   "source": []
  }
 ],
 "metadata": {
  "kernelspec": {
   "display_name": "Python 3 (ipykernel)",
   "language": "python",
   "name": "python3"
  },
  "language_info": {
   "codemirror_mode": {
    "name": "ipython",
    "version": 3
   },
   "file_extension": ".py",
   "mimetype": "text/x-python",
   "name": "python",
   "nbconvert_exporter": "python",
   "pygments_lexer": "ipython3",
   "version": "3.9.7"
  }
 },
 "nbformat": 4,
 "nbformat_minor": 5
}
