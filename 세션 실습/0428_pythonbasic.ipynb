{
 "cells": [
  {
   "cell_type": "code",
   "execution_count": null,
   "id": "6cf50b3a",
   "metadata": {},
   "outputs": [],
   "source": [
    "a=3\n",
    "b=5\n",
    "print(a+b)\n",
    "print(a-b)\n",
    "print(a*b)\n",
    "print(a/b)\n",
    "print(a//b)\n",
    "print(a%b)"
   ]
  },
  {
   "cell_type": "code",
   "execution_count": 2,
   "id": "294f7419",
   "metadata": {},
   "outputs": [
    {
     "name": "stdout",
     "output_type": "stream",
     "text": [
      "2\n",
      "8\n",
      "8\n",
      "HELLO YONSEI\n",
      "hello yonsei\n",
      "['Hello Yon', 'ei']\n"
     ]
    }
   ],
   "source": [
    "str=\"Hello Yonsei\"\n",
    "\n",
    "a=str.count('e')\n",
    "print(a)\n",
    "\n",
    "b=str.find('n')\n",
    "print(b)\n",
    "\n",
    "c=str.index('n')\n",
    "print(c)\n",
    "\n",
    "d=str.upper()\n",
    "print(d)\n",
    "\n",
    "e=str.lower()\n",
    "print(e)\n",
    "\n",
    "f=str.split('s')\n",
    "print(f)"
   ]
  },
  {
   "cell_type": "code",
   "execution_count": 3,
   "id": "be04b850",
   "metadata": {},
   "outputs": [
    {
     "name": "stdout",
     "output_type": "stream",
     "text": [
      "['a', 'b', 'c', 'd']\n",
      "['a', 'b', 'c', 'd', 'e']\n",
      "['a', 'b', 'c', 'd', 'e', 'f', 'g']\n"
     ]
    }
   ],
   "source": [
    "#List\n",
    "#추가 : insert/append/extend\n",
    "\n",
    "list1=['a','c','d']\n",
    "list2=['f','g']\n",
    "\n",
    "list1.insert(1,'b')\n",
    "print(list1)\n",
    "\n",
    "list1.append('e')\n",
    "print(list1)\n",
    "\n",
    "list1.extend(list2)\n",
    "print(list1)"
   ]
  },
  {
   "cell_type": "code",
   "execution_count": 4,
   "id": "80ea71bf",
   "metadata": {},
   "outputs": [
    {
     "name": "stdout",
     "output_type": "stream",
     "text": [
      "[1, 2, 7, 1, 7, 3]\n",
      "[1, 2, 7, 1, 7]\n",
      "3\n"
     ]
    }
   ],
   "source": [
    "#List\n",
    "#삭제: del/remove/pop\n",
    "\n",
    "L=[1,2,4,7,1,7,3]\n",
    "\n",
    "del L[2]\n",
    "print(L)\n",
    "\n",
    "\n",
    "\n",
    "x=L.pop()\n",
    "print(L)\n",
    "print(x)"
   ]
  },
  {
   "cell_type": "code",
   "execution_count": 5,
   "id": "2a1a2e78",
   "metadata": {},
   "outputs": [
    {
     "name": "stdout",
     "output_type": "stream",
     "text": [
      "[1, 1, 2, 7, 7]\n",
      "[7, 7, 2, 1, 1]\n",
      "[1, 1, 2, 7, 7]\n",
      "[7, 7, 2, 1, 1]\n"
     ]
    }
   ],
   "source": [
    "LL=[7,1,2]\n",
    "\n",
    "L.sort()\n",
    "print(L)\n",
    "\n",
    "L.reverse()\n",
    "print(L)\n",
    "\n",
    "x=sorted(L)\n",
    "print(x)\n",
    "print(L)"
   ]
  },
  {
   "cell_type": "code",
   "execution_count": 6,
   "id": "3d3da109",
   "metadata": {},
   "outputs": [
    {
     "name": "stdout",
     "output_type": "stream",
     "text": [
      "{'Jin': 'A', 'Tom': 'B', 'Anne': 'C'}\n"
     ]
    }
   ],
   "source": [
    "grade={'Jin':'A','Tom':'B'}\n",
    "grade['Anne']='C'\n",
    "print(grade)"
   ]
  },
  {
   "cell_type": "code",
   "execution_count": null,
   "id": "a8600bfe",
   "metadata": {},
   "outputs": [],
   "source": []
  }
 ],
 "metadata": {
  "kernelspec": {
   "display_name": "Python 3 (ipykernel)",
   "language": "python",
   "name": "python3"
  },
  "language_info": {
   "codemirror_mode": {
    "name": "ipython",
    "version": 3
   },
   "file_extension": ".py",
   "mimetype": "text/x-python",
   "name": "python",
   "nbconvert_exporter": "python",
   "pygments_lexer": "ipython3",
   "version": "3.9.7"
  }
 },
 "nbformat": 4,
 "nbformat_minor": 5
}
